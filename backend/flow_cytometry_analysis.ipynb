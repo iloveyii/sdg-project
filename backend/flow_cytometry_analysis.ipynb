{
 "cells": [
  {
   "cell_type": "code",
   "execution_count": 16,
   "metadata": {},
   "outputs": [],
   "source": [
    "import os"
   ]
  },
  {
   "cell_type": "code",
   "execution_count": 17,
   "metadata": {},
   "outputs": [],
   "source": [
    "import FlowCytometryTools\n",
    "from FlowCytometryTools import FCMeasurement, ThresholdGate, PolyGate\n",
    "from pylab import *\n"
   ]
  },
  {
   "cell_type": "code",
   "execution_count": null,
   "metadata": {},
   "outputs": [],
   "source": []
  },
  {
   "cell_type": "code",
   "execution_count": 18,
   "metadata": {},
   "outputs": [],
   "source": [
    "# data directory path\n",
    "datadir = os.path.join(FlowCytometryTools.__path__[0], 'tests', 'data', 'Plate01')"
   ]
  },
  {
   "cell_type": "code",
   "execution_count": 19,
   "metadata": {},
   "outputs": [],
   "source": [
    "datafile = os.path.join(datadir, 'RFP_Well_A3.fcs')"
   ]
  },
  {
   "cell_type": "code",
   "execution_count": 20,
   "metadata": {},
   "outputs": [],
   "source": [
    "# Load data\n",
    "tsample = FCMeasurement(ID='Test Sample', datafile=datafile)\n",
    "tsample = tsample.transform('hlog', channels=['Y2-A', 'B1-A', 'V2-A'], b=500)"
   ]
  },
  {
   "cell_type": "code",
   "execution_count": 21,
   "metadata": {},
   "outputs": [
    {
     "data": {
      "text/plain": [
       "(array([  1.,   1.,   2.,   0.,   1.,   5.,  14.,   9.,  16.,  23.,  32.,\n",
       "         53.,  67., 127.,  93., 157., 184., 211., 253., 279., 309., 354.,\n",
       "        358., 471., 457., 479., 438., 474., 474., 481., 420., 452., 387.,\n",
       "        351., 316., 297., 258., 253., 211., 185., 175., 121.,  99.,  80.,\n",
       "         82.,  54.,  53.,  58.,  36.,  32.,  29.,  21.,  28.,  19.,  14.,\n",
       "         19.,  17.,  14.,  12.,   8.,  12.,   5.,   8.,   5.,  12.,   8.,\n",
       "          4.,   5.,   3.,   3.,   3.,   3.,   1.,   0.,   0.,   2.,   0.,\n",
       "          0.,   0.,   0.,   0.,   0.,   0.,   0.,   0.,   0.,   0.,   0.,\n",
       "          0.,   0.,   0.,   0.,   0.,   0.,   0.,   0.,   0.,   0.,   1.,\n",
       "          1.]), array([-1486.9518  , -1425.6162  , -1364.2808  , -1302.9452  ,\n",
       "        -1241.6096  , -1180.274   , -1118.9386  , -1057.603   ,\n",
       "         -996.26746 ,  -934.93195 ,  -873.5964  ,  -812.26086 ,\n",
       "         -750.9253  ,  -689.5898  ,  -628.2543  ,  -566.9187  ,\n",
       "         -505.58316 ,  -444.24762 ,  -382.91208 ,  -321.57657 ,\n",
       "         -260.24103 ,  -198.90547 ,  -137.56995 ,   -76.2344  ,\n",
       "          -14.898862,    46.436676,   107.77222 ,   169.10776 ,\n",
       "          230.4433  ,   291.77884 ,   353.11438 ,   414.44992 ,\n",
       "          475.78543 ,   537.121   ,   598.45654 ,   659.79205 ,\n",
       "          721.1276  ,   782.46313 ,   843.79865 ,   905.1342  ,\n",
       "          966.4697  ,  1027.8053  ,  1089.1409  ,  1150.4763  ,\n",
       "         1211.8119  ,  1273.1475  ,  1334.483   ,  1395.8185  ,\n",
       "         1457.154   ,  1518.4896  ,  1579.8252  ,  1641.1606  ,\n",
       "         1702.4962  ,  1763.8318  ,  1825.1672  ,  1886.5028  ,\n",
       "         1947.8384  ,  2009.174   ,  2070.5095  ,  2131.845   ,\n",
       "         2193.1804  ,  2254.516   ,  2315.8516  ,  2377.187   ,\n",
       "         2438.5227  ,  2499.8582  ,  2561.1938  ,  2622.5293  ,\n",
       "         2683.8647  ,  2745.2004  ,  2806.536   ,  2867.8713  ,\n",
       "         2929.207   ,  2990.5425  ,  3051.8782  ,  3113.2136  ,\n",
       "         3174.549   ,  3235.8848  ,  3297.2202  ,  3358.5557  ,\n",
       "         3419.8914  ,  3481.2268  ,  3542.5623  ,  3603.898   ,\n",
       "         3665.2334  ,  3726.569   ,  3787.9045  ,  3849.24    ,\n",
       "         3910.5757  ,  3971.9111  ,  4033.2466  ,  4094.5823  ,\n",
       "         4155.918   ,  4217.2534  ,  4278.589   ,  4339.9243  ,\n",
       "         4401.26    ,  4462.595   ,  4523.931   ,  4585.2666  ,\n",
       "         4646.602   ], dtype=float32), <a list of 1 Patch objects>)"
      ]
     },
     "execution_count": 21,
     "metadata": {},
     "output_type": "execute_result"
    },
    {
     "data": {
      "image/png": "[encoded data removed]",
      "text/plain": [
       "<Figure size 432x288 with 1 Axes>"
      ]
     },
     "metadata": {
      "needs_background": "light"
     },
     "output_type": "display_data"
    }
   ],
   "source": [
    "# Plot\n",
    "tsample.plot('V2-A', bins=100, alpha=0.9, color='green')"
   ]
  },
  {
   "cell_type": "code",
   "execution_count": 22,
   "metadata": {},
   "outputs": [
    {
     "data": {
      "text/plain": [
       "('HDR-T',\n",
       " 'FSC-A',\n",
       " 'FSC-H',\n",
       " 'FSC-W',\n",
       " 'SSC-A',\n",
       " 'SSC-H',\n",
       " 'SSC-W',\n",
       " 'V2-A',\n",
       " 'V2-H',\n",
       " 'V2-W',\n",
       " 'Y2-A',\n",
       " 'Y2-H',\n",
       " 'Y2-W',\n",
       " 'B1-A',\n",
       " 'B1-H',\n",
       " 'B1-W')"
      ]
     },
     "execution_count": 22,
     "metadata": {},
     "output_type": "execute_result"
    }
   ],
   "source": [
    "tsample.channel_names\n"
   ]
  },
  {
   "cell_type": "code",
   "execution_count": 23,
   "metadata": {},
   "outputs": [
    {
     "data": {
      "text/plain": [
       "{'__header__': {'FCS format': b'FCS3.0',\n",
       "  'text start': 256,\n",
       "  'text end': 1824,\n",
       "  'data start': 1892,\n",
       "  'data end': 641891,\n",
       "  'analysis start': 0,\n",
       "  'analysis end': 0},\n",
       " '$BYTEORD': '1,2,3,4',\n",
       " '$DATATYPE': 'F',\n",
       " '$NEXTDATA': 0,\n",
       " '$TOT': 10000,\n",
       " '$MODE': 'L',\n",
       " '$PAR': 16,\n",
       " '$FIL': 'EY_2013-07-19_PID_101_MG1655_Transformants_D01_Well_A3.001.fcs',\n",
       " '$OP': 'Eugene',\n",
       " '$SYS': 'MACSQuantify,2.4.1247.1dev',\n",
       " '$CYT': 'MACSQuant',\n",
       " '$CYTSN': '3057',\n",
       " '$SRC': 'A3',\n",
       " '$CELLS': 'PID_101_MG1655_Transformants_D01',\n",
       " '$DATE': '2013-Jul-19',\n",
       " '$BTIM': '11:47:24',\n",
       " '$ETIM': '11:47:46',\n",
       " '$BEGINSTEXT': '0',\n",
       " '$ENDSTEXT': '0',\n",
       " '$BEGINANALYSIS': '0',\n",
       " '$ENDANALYSIS': '0',\n",
       " '$BEGINDATA': '1892',\n",
       " '$ENDDATA': '641891',\n",
       " '_channels_':                  $PnN    $PnR   $PnS                  $PnE $PnG  $PnB\n",
       " Channel Number                                                       \n",
       " 1               HDR-T  262144  HDR-T  [0.000000, 0.000000]    1    32\n",
       " 2               FSC-A  262144  FSC-A  [0.000000, 0.000000]    1    32\n",
       " 3               FSC-H  262144  FSC-H  [0.000000, 0.000000]    1    32\n",
       " 4               FSC-W  262144  FSC-W  [0.000000, 0.000000]    1    32\n",
       " 5               SSC-A  262144  SSC-A  [0.000000, 0.000000]    1    32\n",
       " 6               SSC-H  262144  SSC-H  [0.000000, 0.000000]    1    32\n",
       " 7               SSC-W  262144  SSC-W  [0.000000, 0.000000]    1    32\n",
       " 8                V2-A  262144   V2-A  [0.000000, 0.000000]    1    32\n",
       " 9                V2-H  262144   V2-H  [0.000000, 0.000000]    1    32\n",
       " 10               V2-W  262144   V2-W  [0.000000, 0.000000]    1    32\n",
       " 11               Y2-A  262144   Y2-A  [0.000000, 0.000000]    1    32\n",
       " 12               Y2-H  262144   Y2-H  [0.000000, 0.000000]    1    32\n",
       " 13               Y2-W  262144   Y2-W  [0.000000, 0.000000]    1    32\n",
       " 14               B1-A  262144   B1-A  [0.000000, 0.000000]    1    32\n",
       " 15               B1-H  262144   B1-H  [0.000000, 0.000000]    1    32\n",
       " 16               B1-W  262144   B1-W  [0.000000, 0.000000]    1    32,\n",
       " '_channel_names_': ('HDR-T',\n",
       "  'FSC-A',\n",
       "  'FSC-H',\n",
       "  'FSC-W',\n",
       "  'SSC-A',\n",
       "  'SSC-H',\n",
       "  'SSC-W',\n",
       "  'V2-A',\n",
       "  'V2-H',\n",
       "  'V2-W',\n",
       "  'Y2-A',\n",
       "  'Y2-H',\n",
       "  'Y2-W',\n",
       "  'B1-A',\n",
       "  'B1-H',\n",
       "  'B1-W')}"
      ]
     },
     "execution_count": 23,
     "metadata": {},
     "output_type": "execute_result"
    }
   ],
   "source": [
    "tsample.meta"
   ]
  },
  {
   "cell_type": "code",
   "execution_count": 24,
   "metadata": {},
   "outputs": [
    {
     "data": {
      "text/plain": [
       "FlowCytometryTools.core.containers.FCMeasurement"
      ]
     },
     "execution_count": 24,
     "metadata": {},
     "output_type": "execute_result"
    }
   ],
   "source": [
    "type(tsample)\n"
   ]
  },
  {
   "cell_type": "code",
   "execution_count": 25,
   "metadata": {},
   "outputs": [
    {
     "data": {
      "text/plain": [
       "(array([[nan, nan, nan, ..., nan, nan, nan],\n",
       "        [nan, nan, nan, ..., nan, nan, nan],\n",
       "        [nan, nan, nan, ..., nan, nan, nan],\n",
       "        ...,\n",
       "        [nan, nan, nan, ..., nan, nan, nan],\n",
       "        [nan, nan, nan, ..., nan, nan, nan],\n",
       "        [nan, nan, nan, ..., nan, nan, nan]]),\n",
       " array([-1.23705005e+03, -1.20081295e+03, -1.16457585e+03, -1.12833875e+03,\n",
       "        -1.09210166e+03, -1.05586456e+03, -1.01962746e+03, -9.83390360e+02,\n",
       "        -9.47153262e+02, -9.10916163e+02, -8.74679065e+02, -8.38441967e+02,\n",
       "        -8.02204868e+02, -7.65967770e+02, -7.29730671e+02, -6.93493573e+02,\n",
       "        -6.57256475e+02, -6.21019376e+02, -5.84782278e+02, -5.48545179e+02,\n",
       "        -5.12308081e+02, -4.76070983e+02, -4.39833884e+02, -4.03596786e+02,\n",
       "        -3.67359688e+02, -3.31122589e+02, -2.94885491e+02, -2.58648392e+02,\n",
       "        -2.22411294e+02, -1.86174196e+02, -1.49937097e+02, -1.13699999e+02,\n",
       "        -7.74629004e+01, -4.12258020e+01, -4.98870361e+00,  3.12483948e+01,\n",
       "         6.74854932e+01,  1.03722592e+02,  1.39959690e+02,  1.76196788e+02,\n",
       "         2.12433887e+02,  2.48670985e+02,  2.84908083e+02,  3.21145182e+02,\n",
       "         3.57382280e+02,  3.93619379e+02,  4.29856477e+02,  4.66093575e+02,\n",
       "         5.02330674e+02,  5.38567772e+02,  5.74804871e+02,  6.11041969e+02,\n",
       "         6.47279067e+02,  6.83516166e+02,  7.19753264e+02,  7.55990363e+02,\n",
       "         7.92227461e+02,  8.28464559e+02,  8.64701658e+02,  9.00938756e+02,\n",
       "         9.37175854e+02,  9.73412953e+02,  1.00965005e+03,  1.04588715e+03,\n",
       "         1.08212425e+03,  1.11836135e+03,  1.15459844e+03,  1.19083554e+03,\n",
       "         1.22707264e+03,  1.26330974e+03,  1.29954684e+03,  1.33578394e+03,\n",
       "         1.37202104e+03,  1.40825813e+03,  1.44449523e+03,  1.48073233e+03,\n",
       "         1.51696943e+03,  1.55320653e+03,  1.58944363e+03,  1.62568072e+03,\n",
       "         1.66191782e+03,  1.69815492e+03,  1.73439202e+03,  1.77062912e+03,\n",
       "         1.80686622e+03,  1.84310331e+03,  1.87934041e+03,  1.91557751e+03,\n",
       "         1.95181461e+03,  1.98805171e+03,  2.02428881e+03,  2.06052590e+03,\n",
       "         2.09676300e+03,  2.13300010e+03,  2.16923720e+03,  2.20547430e+03,\n",
       "         2.24171140e+03,  2.27794849e+03,  2.31418559e+03,  2.35042269e+03,\n",
       "         2.38665979e+03,  2.42289689e+03,  2.45913399e+03,  2.49537109e+03,\n",
       "         2.53160818e+03,  2.56784528e+03,  2.60408238e+03,  2.64031948e+03,\n",
       "         2.67655658e+03,  2.71279368e+03,  2.74903077e+03,  2.78526787e+03,\n",
       "         2.82150497e+03,  2.85774207e+03,  2.89397917e+03,  2.93021627e+03,\n",
       "         2.96645336e+03,  3.00269046e+03,  3.03892756e+03,  3.07516466e+03,\n",
       "         3.11140176e+03,  3.14763886e+03,  3.18387595e+03,  3.22011305e+03,\n",
       "         3.25635015e+03,  3.29258725e+03,  3.32882435e+03,  3.36506145e+03,\n",
       "         3.40129854e+03,  3.43753564e+03,  3.47377274e+03,  3.51000984e+03,\n",
       "         3.54624694e+03,  3.58248404e+03,  3.61872114e+03,  3.65495823e+03,\n",
       "         3.69119533e+03,  3.72743243e+03,  3.76366953e+03,  3.79990663e+03,\n",
       "         3.83614373e+03,  3.87238082e+03,  3.90861792e+03,  3.94485502e+03,\n",
       "         3.98109212e+03,  4.01732922e+03,  4.05356632e+03,  4.08980341e+03,\n",
       "         4.12604051e+03,  4.16227761e+03,  4.19851471e+03,  4.23475181e+03,\n",
       "         4.27098891e+03,  4.30722600e+03,  4.34346310e+03,  4.37970020e+03,\n",
       "         4.41593730e+03,  4.45217440e+03,  4.48841150e+03,  4.52464859e+03,\n",
       "         4.56088569e+03,  4.59712279e+03,  4.63335989e+03,  4.66959699e+03,\n",
       "         4.70583409e+03,  4.74207119e+03,  4.77830828e+03,  4.81454538e+03,\n",
       "         4.85078248e+03,  4.88701958e+03,  4.92325668e+03,  4.95949378e+03,\n",
       "         4.99573087e+03,  5.03196797e+03,  5.06820507e+03,  5.10444217e+03,\n",
       "         5.14067927e+03,  5.17691637e+03,  5.21315346e+03,  5.24939056e+03,\n",
       "         5.28562766e+03,  5.32186476e+03,  5.35810186e+03,  5.39433896e+03,\n",
       "         5.43057605e+03,  5.46681315e+03,  5.50305025e+03,  5.53928735e+03,\n",
       "         5.57552445e+03,  5.61176155e+03,  5.64799865e+03,  5.68423574e+03,\n",
       "         5.72047284e+03,  5.75670994e+03,  5.79294704e+03,  5.82918414e+03,\n",
       "         5.86542124e+03,  5.90165833e+03,  5.93789543e+03,  5.97413253e+03,\n",
       "         6.01036963e+03]),\n",
       " array([-528.31988525, -481.20065887, -434.0814325 , -386.96220612,\n",
       "        -339.84297974, -292.72375336, -245.60452698, -198.4853006 ,\n",
       "        -151.36607422, -104.24684784,  -57.12762146,  -10.00839508,\n",
       "          37.1108313 ,   84.23005768,  131.34928406,  178.46851044,\n",
       "         225.58773682,  272.7069632 ,  319.82618958,  366.94541595,\n",
       "         414.06464233,  461.18386871,  508.30309509,  555.42232147,\n",
       "         602.54154785,  649.66077423,  696.78000061,  743.89922699,\n",
       "         791.01845337,  838.13767975,  885.25690613,  932.37613251,\n",
       "         979.49535889, 1026.61458527, 1073.73381165, 1120.85303802,\n",
       "        1167.9722644 , 1215.09149078, 1262.21071716, 1309.32994354,\n",
       "        1356.44916992, 1403.5683963 , 1450.68762268, 1497.80684906,\n",
       "        1544.92607544, 1592.04530182, 1639.1645282 , 1686.28375458,\n",
       "        1733.40298096, 1780.52220734, 1827.64143372, 1874.7606601 ,\n",
       "        1921.87988647, 1968.99911285, 2016.11833923, 2063.23756561,\n",
       "        2110.35679199, 2157.47601837, 2204.59524475, 2251.71447113,\n",
       "        2298.83369751, 2345.95292389, 2393.07215027, 2440.19137665,\n",
       "        2487.31060303, 2534.42982941, 2581.54905579, 2628.66828217,\n",
       "        2675.78750854, 2722.90673492, 2770.0259613 , 2817.14518768,\n",
       "        2864.26441406, 2911.38364044, 2958.50286682, 3005.6220932 ,\n",
       "        3052.74131958, 3099.86054596, 3146.97977234, 3194.09899872,\n",
       "        3241.2182251 , 3288.33745148, 3335.45667786, 3382.57590424,\n",
       "        3429.69513062, 3476.81435699, 3523.93358337, 3571.05280975,\n",
       "        3618.17203613, 3665.29126251, 3712.41048889, 3759.52971527,\n",
       "        3806.64894165, 3853.76816803, 3900.88739441, 3948.00662079,\n",
       "        3995.12584717, 4042.24507355, 4089.36429993, 4136.48352631,\n",
       "        4183.60275269, 4230.72197906, 4277.84120544, 4324.96043182,\n",
       "        4372.0796582 , 4419.19888458, 4466.31811096, 4513.43733734,\n",
       "        4560.55656372, 4607.6757901 , 4654.79501648, 4701.91424286,\n",
       "        4749.03346924, 4796.15269562, 4843.271922  , 4890.39114838,\n",
       "        4937.51037476, 4984.62960114, 5031.74882751, 5078.86805389,\n",
       "        5125.98728027, 5173.10650665, 5220.22573303, 5267.34495941,\n",
       "        5314.46418579, 5361.58341217, 5408.70263855, 5455.82186493,\n",
       "        5502.94109131, 5550.06031769, 5597.17954407, 5644.29877045,\n",
       "        5691.41799683, 5738.53722321, 5785.65644958, 5832.77567596,\n",
       "        5879.89490234, 5927.01412872, 5974.1333551 , 6021.25258148,\n",
       "        6068.37180786, 6115.49103424, 6162.61026062, 6209.729487  ,\n",
       "        6256.84871338, 6303.96793976, 6351.08716614, 6398.20639252,\n",
       "        6445.3256189 , 6492.44484528, 6539.56407166, 6586.68329803,\n",
       "        6633.80252441, 6680.92175079, 6728.04097717, 6775.16020355,\n",
       "        6822.27942993, 6869.39865631, 6916.51788269, 6963.63710907,\n",
       "        7010.75633545, 7057.87556183, 7104.99478821, 7152.11401459,\n",
       "        7199.23324097, 7246.35246735, 7293.47169373, 7340.5909201 ,\n",
       "        7387.71014648, 7434.82937286, 7481.94859924, 7529.06782562,\n",
       "        7576.187052  , 7623.30627838, 7670.42550476, 7717.54473114,\n",
       "        7764.66395752, 7811.7831839 , 7858.90241028, 7906.02163666,\n",
       "        7953.14086304, 8000.26008942, 8047.3793158 , 8094.49854218,\n",
       "        8141.61776855, 8188.73699493, 8235.85622131, 8282.97544769,\n",
       "        8330.09467407, 8377.21390045, 8424.33312683, 8471.45235321,\n",
       "        8518.57157959, 8565.69080597, 8612.81003235, 8659.92925873,\n",
       "        8707.04848511, 8754.16771149, 8801.28693787, 8848.40616425,\n",
       "        8895.52539062]),\n",
       " <matplotlib.collections.QuadMesh at 0x7f523dd1d550>)"
      ]
     },
     "execution_count": 25,
     "metadata": {},
     "output_type": "execute_result"
    },
    {
     "name": "stderr",
     "output_type": "stream",
     "text": [
      "/home/alex/.local/lib/python3.6/site-packages/matplotlib/colors.py:1110: RuntimeWarning: invalid value encountered in less_equal\n",
      "  mask |= resdat <= 0\n"
     ]
    },
    {
     "data": {
      "image/png": "[encoded data removed]",
      "text/plain": [
       "<Figure size 432x288 with 1 Axes>"
      ]
     },
     "metadata": {
      "needs_background": "light"
     },
     "output_type": "display_data"
    }
   ],
   "source": [
    "tsample.plot(['B1-A', 'Y2-A'], cmap=cm.Oranges, colorbar=False)"
   ]
  },
  {
   "cell_type": "code",
   "execution_count": 52,
   "metadata": {},
   "outputs": [],
   "source": [
    "# Create Threshold gate with Y2-A value below 1000\n",
    "y2_gate_below = ThresholdGate(300.0, ['Y2-A'], region='below')\n",
    "y2_gate_above = ThresholdGate(-300.0, ['Y2-A'], region='below')\n",
    "\n",
    "# Gate for event B1-A value above 2000.0\n",
    "b1_gate = ThresholdGate(2000.0, ['B1-A'], region='above')"
   ]
  },
  {
   "cell_type": "code",
   "execution_count": 53,
   "metadata": {},
   "outputs": [],
   "source": [
    "# Use interavtive GUI\n",
    "# tsample.view_interactively(backend='webagg')"
   ]
  },
  {
   "cell_type": "code",
   "execution_count": 54,
   "metadata": {},
   "outputs": [
    {
     "data": {
      "text/plain": [
       "Text(0.5, 1.0, 'Gate Plotted')"
      ]
     },
     "execution_count": 54,
     "metadata": {},
     "output_type": "execute_result"
    },
    {
     "data": {
      "image/png": "[encoded data removed]",
      "text/plain": [
       "<Figure size 432x288 with 1 Axes>"
      ]
     },
     "metadata": {
      "needs_background": "light"
     },
     "output_type": "display_data"
    }
   ],
   "source": [
    "# Apply gates\n",
    "figure()\n",
    "tsample.plot(['Y2-A'], gates=[y2_gate_below, y2_gate_above], bins=100)\n",
    "title('Gate Plotted')"
   ]
  },
  {
   "cell_type": "code",
   "execution_count": 15,
   "metadata": {},
   "outputs": [
    {
     "name": "stdout",
     "output_type": "stream",
     "text": [
      "4433\n"
     ]
    }
   ],
   "source": [
    "# Apply gates\n",
    "gated_sample = tsample.gate(y2_gate)\n",
    "print(gated_sample.get_data().shape[0])"
   ]
  },
  {
   "cell_type": "code",
   "execution_count": 55,
   "metadata": {},
   "outputs": [],
   "source": [
    "# WORKING WITH PLATES\n",
    "# Loading data using FCPlate\n",
    "from FlowCytometryTools import FCPlate"
   ]
  },
  {
   "cell_type": "code",
   "execution_count": 58,
   "metadata": {},
   "outputs": [],
   "source": [
    "sample1 = FCMeasurement('B1', datafile=datafile)\n",
    "sample2 = FCMeasurement('D2', datafile=datafile)"
   ]
  },
  {
   "cell_type": "code",
   "execution_count": 60,
   "metadata": {},
   "outputs": [
    {
     "name": "stdout",
     "output_type": "stream",
     "text": [
      "ID:\n",
      "Demo plate\n",
      "\n",
      "Data:\n",
      "    1   2 3\n",
      "A          \n",
      "B  B1      \n",
      "C          \n",
      "D      D2  \n"
     ]
    }
   ],
   "source": [
    "plate1 = FCPlate('Demo plate', [sample1, sample2], 'name', shape=(4,3))\n",
    "print(plate1)\n"
   ]
  },
  {
   "cell_type": "code",
   "execution_count": 63,
   "metadata": {},
   "outputs": [
    {
     "name": "stdout",
     "output_type": "stream",
     "text": [
      "ID:\n",
      "Demo alt plate\n",
      "\n",
      "Data:\n",
      "  1   2   3\n",
      "A          \n",
      "B          \n",
      "C    B1  D2\n",
      "D          \n"
     ]
    }
   ],
   "source": [
    "# Specify sample positions independent of the sample IDs using a dictionary - alternate method\n",
    "plate2 = FCPlate('Demo alt plate', {'C2': sample1, 'C3': sample2}, 'name', shape=(4,3))\n",
    "print(plate2)"
   ]
  },
  {
   "cell_type": "code",
   "execution_count": 64,
   "metadata": {},
   "outputs": [
    {
     "name": "stdout",
     "output_type": "stream",
     "text": [
      "<FCMeasurement 'B1'>\n"
     ]
    }
   ],
   "source": [
    "# Sample 1 can be accessed by C2 index\n",
    "print(plate2['C2'])"
   ]
  },
  {
   "cell_type": "code",
   "execution_count": null,
   "metadata": {},
   "outputs": [],
   "source": [
    "# Better way of loading data - using FCPlate to load all *.fcs files\n"
   ]
  }
 ],
 "metadata": {
  "kernelspec": {
   "display_name": "Python 3",
   "language": "python",
   "name": "python3"
  },
  "language_info": {
   "codemirror_mode": {
    "name": "ipython",
    "version": 3
   },
   "file_extension": ".py",
   "mimetype": "text/x-python",
   "name": "python",
   "nbconvert_exporter": "python",
   "pygments_lexer": "ipython3",
   "version": "3.6.7"
  }
 },
 "nbformat": 4,
 "nbformat_minor": 2
}
